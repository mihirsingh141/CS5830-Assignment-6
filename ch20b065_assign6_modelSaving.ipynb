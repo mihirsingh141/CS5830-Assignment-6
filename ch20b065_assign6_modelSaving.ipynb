{
 "cells": [
  {
   "cell_type": "code",
   "execution_count": 94,
   "metadata": {},
   "outputs": [],
   "source": [
    "# Importing necessary libraries\n",
    "\n",
    "import mlflow\n",
    "from mlflow.tracking import MlflowClient\n",
    "\n",
    "from keras.models import load_model, save_model\n",
    "from tensorflow import keras\n",
    "import os\n",
    "import numpy as np\n",
    "import matplotlib.pyplot as plt\n",
    "import random\n",
    "\n",
    "from fastapi import FastAPI, UploadFile, File\n",
    "from PIL import Image\n",
    "import io"
   ]
  },
  {
   "cell_type": "code",
   "execution_count": 10,
   "metadata": {},
   "outputs": [],
   "source": [
    "client = MlflowClient(tracking_uri='http://localhost:8080') \n",
    "experiments = client.search_experiments()\n"
   ]
  },
  {
   "cell_type": "code",
   "execution_count": 16,
   "metadata": {},
   "outputs": [
    {
     "name": "stdout",
     "output_type": "stream",
     "text": [
      "Experiment ID: 185101760259181866\n",
      "Name: MNIST models manual\n",
      "Artifact Location: mlflow-artifacts:/185101760259181866\n",
      "Lifecycle Stage: active\n",
      "-------------------------------\n",
      "Experiment ID: 439877701008752385\n",
      "Name: MNIST models auto\n",
      "Artifact Location: mlflow-artifacts:/439877701008752385\n",
      "Lifecycle Stage: active\n",
      "-------------------------------\n",
      "Experiment ID: 0\n",
      "Name: Default\n",
      "Artifact Location: mlflow-artifacts:/0\n",
      "Lifecycle Stage: active\n",
      "-------------------------------\n"
     ]
    }
   ],
   "source": [
    "for experiment in experiments:\n",
    "    print(\"Experiment ID:\", experiment.experiment_id)\n",
    "    print(\"Name:\", experiment.name)\n",
    "    print(\"Artifact Location:\", experiment.artifact_location)\n",
    "    print(\"Lifecycle Stage:\", experiment.lifecycle_stage)\n",
    "    print(\"-------------------------------\")"
   ]
  },
  {
   "cell_type": "code",
   "execution_count": 27,
   "metadata": {},
   "outputs": [],
   "source": [
    "experiment_id = '439877701008752385'\n",
    "\n",
    "runs = mlflow.search_runs(experiment_id)\n"
   ]
  },
  {
   "cell_type": "code",
   "execution_count": 34,
   "metadata": {},
   "outputs": [
    {
     "name": "stdout",
     "output_type": "stream",
     "text": [
      "Run ID: c1dc5de025ce4b5a9c0a79eadefd5be7\n",
      "Status: FINISHED\n",
      "Start Time: 2024-04-19 20:21:58.381000+00:00\n",
      "End Time: 2024-04-19 20:25:22.824000+00:00\n",
      "Validation Loss: 2.406048059463501\n",
      "-------------------------------------\n",
      "Run ID: b466a1cadf134e799cb2fae68bf3f62c\n",
      "Status: FINISHED\n",
      "Start Time: 2024-04-19 20:21:38.878000+00:00\n",
      "End Time: 2024-04-19 20:21:58.057000+00:00\n",
      "Validation Loss: 1.0681698322296143\n",
      "-------------------------------------\n",
      "Run ID: b404f21f96e546b6b7cba5ad698fe5e3\n",
      "Status: FINISHED\n",
      "Start Time: 2024-04-19 20:18:10.495000+00:00\n",
      "End Time: 2024-04-19 20:21:35.951000+00:00\n",
      "Validation Loss: 0.26858389377593994\n",
      "-------------------------------------\n",
      "Run ID: 8eb57d9e051c4f7b8234b07d2563b26f\n",
      "Status: FINISHED\n",
      "Start Time: 2024-04-19 20:14:46.427000+00:00\n",
      "End Time: 2024-04-19 20:18:07.411000+00:00\n",
      "Validation Loss: 0.3429158329963684\n",
      "-------------------------------------\n",
      "Run ID: 72ef047c9d644ac7985090847bb02b73\n",
      "Status: FINISHED\n",
      "Start Time: 2024-04-19 20:11:25.532000+00:00\n",
      "End Time: 2024-04-19 20:14:43.436000+00:00\n",
      "Validation Loss: 0.6432693600654602\n",
      "-------------------------------------\n",
      "Run ID: 3fce6bd7b14948e2b2455fcf611ca2be\n",
      "Status: FINISHED\n",
      "Start Time: 2024-04-19 20:08:19.124000+00:00\n",
      "End Time: 2024-04-19 20:11:22.514000+00:00\n",
      "Validation Loss: 0.09704755246639252\n",
      "-------------------------------------\n",
      "Run ID: 5ce1fdb66d434e93a13873529b5cfd5c\n",
      "Status: FINISHED\n",
      "Start Time: 2024-04-19 20:03:58.891000+00:00\n",
      "End Time: 2024-04-19 20:08:16.148000+00:00\n",
      "Validation Loss: 0.06834544986486435\n",
      "-------------------------------------\n",
      "Run ID: e849aa9ca75a489596b00607374c806f\n",
      "Status: FINISHED\n",
      "Start Time: 2024-04-19 19:59:16.649000+00:00\n",
      "End Time: 2024-04-19 20:03:55.709000+00:00\n",
      "Validation Loss: 0.9475986957550049\n",
      "-------------------------------------\n",
      "Run ID: aa8ab9dea3344ef48a2eb291aec1ef28\n",
      "Status: FINISHED\n",
      "Start Time: 2024-04-19 19:54:51.939000+00:00\n",
      "End Time: 2024-04-19 19:59:13.475000+00:00\n",
      "Validation Loss: 0.07057636976242065\n",
      "-------------------------------------\n",
      "Run ID: 6441010f5c00484a90eb13bc45ca46fb\n",
      "Status: FINISHED\n",
      "Start Time: 2024-04-19 19:50:20.167000+00:00\n",
      "End Time: 2024-04-19 19:54:47.943000+00:00\n",
      "Validation Loss: 0.15938793122768402\n",
      "-------------------------------------\n"
     ]
    }
   ],
   "source": [
    "for run in runs.iterrows():\n",
    "    print(\"Run ID:\", run[1]['run_id'])\n",
    "    print(\"Status:\", run[1]['status'])\n",
    "    print(\"Start Time:\", run[1]['start_time'])\n",
    "    print(\"End Time:\", run[1]['end_time'])\n",
    "    print(\"Validation Loss:\",run[1]['metrics.val_loss'])\n",
    "    print(\"-------------------------------------\")"
   ]
  },
  {
   "cell_type": "code",
   "execution_count": 36,
   "metadata": {},
   "outputs": [
    {
     "name": "stdout",
     "output_type": "stream",
     "text": [
      "Best Run ID: 5ce1fdb66d434e93a13873529b5cfd5c\n",
      "Best Validation Loss: 0.06834544986486435\n"
     ]
    }
   ],
   "source": [
    "# Picking the model with the least validation loss\n",
    "\n",
    "best_loss = float('inf')\n",
    "best_run_id = None\n",
    "\n",
    "for run in runs.iterrows():\n",
    "    loss = run[1]['metrics.val_loss']\n",
    "\n",
    "    if loss < best_loss:\n",
    "        best_loss = loss\n",
    "        best_run_id = run[1]['run_id']\n",
    "\n",
    "print(\"Best Run ID:\", best_run_id)\n",
    "print(\"Best Validation Loss:\", best_loss)"
   ]
  },
  {
   "cell_type": "code",
   "execution_count": 38,
   "metadata": {},
   "outputs": [
    {
     "data": {
      "application/vnd.jupyter.widget-view+json": {
       "model_id": "6ffbf45a61204b2e8c06f5a1f2838ccf",
       "version_major": 2,
       "version_minor": 0
      },
      "text/plain": [
       "Downloading artifacts:   0%|          | 0/10 [00:00<?, ?it/s]"
      ]
     },
     "metadata": {},
     "output_type": "display_data"
    },
    {
     "name": "stderr",
     "output_type": "stream",
     "text": [
      "2024/04/20 20:39:13 INFO mlflow.store.artifact.artifact_repo: The progress bar can be disabled by setting the environment variable MLFLOW_ENABLE_ARTIFACTS_PROGRESS_BAR to false\n",
      "2024-04-20 20:39:13.582246: I metal_plugin/src/device/metal_device.cc:1154] Metal device set to: Apple M2 Pro\n",
      "2024-04-20 20:39:13.582283: I metal_plugin/src/device/metal_device.cc:296] systemMemory: 16.00 GB\n",
      "2024-04-20 20:39:13.582295: I metal_plugin/src/device/metal_device.cc:313] maxCacheSize: 5.33 GB\n",
      "2024-04-20 20:39:13.582591: I tensorflow/core/common_runtime/pluggable_device/pluggable_device_factory.cc:305] Could not identify NUMA node of platform GPU ID 0, defaulting to 0. Your kernel may not have been built with NUMA support.\n",
      "2024-04-20 20:39:13.582624: I tensorflow/core/common_runtime/pluggable_device/pluggable_device_factory.cc:271] Created TensorFlow device (/job:localhost/replica:0/task:0/device:GPU:0 with 0 MB memory) -> physical PluggableDevice (device: 0, name: METAL, pci bus id: <undefined>)\n"
     ]
    }
   ],
   "source": [
    "model = mlflow.keras.load_model(\"runs:/\" + best_run_id + \"/model\")"
   ]
  },
  {
   "cell_type": "code",
   "execution_count": 45,
   "metadata": {},
   "outputs": [],
   "source": [
    "# Defining a function to save a keras model on a local machine\n",
    "\n",
    "def save_model_to_disk(model,file_path,model_name):\n",
    "    os.makedirs(file_path,exist_ok=True)\n",
    "    save_path = os.path.join(file_path,model_name)\n",
    "\n",
    "    save_model(model,save_path)\n",
    "\n",
    "save_model_to_disk(model,'Models','MNIST_model.keras')\n"
   ]
  }
 ],
 "metadata": {
  "kernelspec": {
   "display_name": "base",
   "language": "python",
   "name": "python3"
  },
  "language_info": {
   "codemirror_mode": {
    "name": "ipython",
    "version": 3
   },
   "file_extension": ".py",
   "mimetype": "text/x-python",
   "name": "python",
   "nbconvert_exporter": "python",
   "pygments_lexer": "ipython3",
   "version": "3.11.8"
  }
 },
 "nbformat": 4,
 "nbformat_minor": 2
}
